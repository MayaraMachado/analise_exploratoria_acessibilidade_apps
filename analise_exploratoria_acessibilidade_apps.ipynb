{
  "nbformat": 4,
  "nbformat_minor": 0,
  "metadata": {
    "colab": {
      "name": "analise_exploratoria_acessibilidade_apps.ipynb",
      "provenance": [],
      "authorship_tag": "ABX9TyNvoNAYHp6fN5IJbR3uBzI0"
    },
    "kernelspec": {
      "name": "python3",
      "display_name": "Python 3"
    }
  },
  "cells": [
    {
      "cell_type": "markdown",
      "metadata": {
        "id": "cJ9VDaJFgUFc"
      },
      "source": [
        "## Perguntas a serem respondidas\n",
        "\n",
        "1. Descobrir o quanto o tema é conhecido e de qual forma se obteve conhecimento sobre\n",
        "2. Descobrir qual o numero de pessoas que aplicam acessibilidade e quantas gostariam de aplicar\n",
        "3. Quantas implementam no trabalho e qual a relação disso com o tamanho da empresa\n",
        "4. Qual a relação entre SO e uso de acessibilidade\n"
      ]
    },
    {
      "cell_type": "code",
      "metadata": {
        "id": "sFPafIGLowLb"
      },
      "source": [
        "import pandas as pd\n",
        "import matplotlib.pyplot as plt\n",
        "import math"
      ],
      "execution_count": 117,
      "outputs": []
    },
    {
      "cell_type": "code",
      "metadata": {
        "id": "zV98HXhxqwq7"
      },
      "source": [
        "df = pd.read_csv('respostas_formulario.csv')"
      ],
      "execution_count": 118,
      "outputs": []
    },
    {
      "cell_type": "code",
      "metadata": {
        "colab": {
          "base_uri": "https://localhost:8080/",
          "height": 375
        },
        "id": "6WpYzy5Cvvsk",
        "outputId": "34963f98-3c25-48e1-c9ef-14b363285243"
      },
      "source": [
        "df.head(2)"
      ],
      "execution_count": 119,
      "outputs": [
        {
          "output_type": "execute_result",
          "data": {
            "text/html": [
              "<div>\n",
              "<style scoped>\n",
              "    .dataframe tbody tr th:only-of-type {\n",
              "        vertical-align: middle;\n",
              "    }\n",
              "\n",
              "    .dataframe tbody tr th {\n",
              "        vertical-align: top;\n",
              "    }\n",
              "\n",
              "    .dataframe thead th {\n",
              "        text-align: right;\n",
              "    }\n",
              "</style>\n",
              "<table border=\"1\" class=\"dataframe\">\n",
              "  <thead>\n",
              "    <tr style=\"text-align: right;\">\n",
              "      <th></th>\n",
              "      <th>Carimbo de data/hora</th>\n",
              "      <th>Gênero?</th>\n",
              "      <th>Qual a sua área  de atuação?</th>\n",
              "      <th>Há quantos anos trabalha com o desenvolvimento de Mobile APPs?</th>\n",
              "      <th>Tem conhecimento sobre desenvolvimento Mobile com funcionalidades voltadas para a acessibilidade em APPs?</th>\n",
              "      <th>Onde você aprendeu sobre acessibilidade?</th>\n",
              "      <th>O quanto você acha que implementa conceitos de acessibilidade nos seus projetos?</th>\n",
              "      <th>Dos OS listados, marque todos que você considera de fácil implementação de funcionalidades relacionadas a acessibilidade.</th>\n",
              "      <th>Qual a maior dificuldade ao implementar funcionalidades com features de acessibilidade?</th>\n",
              "      <th>Atualmente você trabalha com desenvolvimento Mobile em alguma empresa?</th>\n",
              "      <th>Na empresa em que trabalha são aplicados funcionalidades visando a acessibilidade em APPs?</th>\n",
              "      <th>Qual o tamanho da empresa que você trabalha?</th>\n",
              "    </tr>\n",
              "  </thead>\n",
              "  <tbody>\n",
              "    <tr>\n",
              "      <th>0</th>\n",
              "      <td>26/01/2021 11:20:07</td>\n",
              "      <td>Feminino</td>\n",
              "      <td>Desenvolvedor Mobile</td>\n",
              "      <td>Entre 1 e 3 anos</td>\n",
              "      <td>Sim, já ouvi falar.</td>\n",
              "      <td>Curso online</td>\n",
              "      <td>2.0</td>\n",
              "      <td>Android, IOS</td>\n",
              "      <td>Conhecimento técnico</td>\n",
              "      <td>Não</td>\n",
              "      <td>NaN</td>\n",
              "      <td>NaN</td>\n",
              "    </tr>\n",
              "    <tr>\n",
              "      <th>1</th>\n",
              "      <td>26/01/2021 11:21:32</td>\n",
              "      <td>Masculino</td>\n",
              "      <td>QA</td>\n",
              "      <td>Entre 3 e 5 anos</td>\n",
              "      <td>Sim, eu conheço ou já utilizo.</td>\n",
              "      <td>Faculdade</td>\n",
              "      <td>4.0</td>\n",
              "      <td>Android, IOS</td>\n",
              "      <td>Falta de obrigação nos requisitos do projeto</td>\n",
              "      <td>Sim</td>\n",
              "      <td>Sim</td>\n",
              "      <td>Média</td>\n",
              "    </tr>\n",
              "  </tbody>\n",
              "</table>\n",
              "</div>"
            ],
            "text/plain": [
              "  Carimbo de data/hora  ... Qual o tamanho da empresa que você trabalha?\n",
              "0  26/01/2021 11:20:07  ...                                          NaN\n",
              "1  26/01/2021 11:21:32  ...                                        Média\n",
              "\n",
              "[2 rows x 12 columns]"
            ]
          },
          "metadata": {
            "tags": []
          },
          "execution_count": 119
        }
      ]
    },
    {
      "cell_type": "code",
      "metadata": {
        "colab": {
          "base_uri": "https://localhost:8080/"
        },
        "id": "3dTSxxgWwNzK",
        "outputId": "99abdba2-1390-4400-c83d-15fd0942f0bb"
      },
      "source": [
        "# Alterar os nomes das colunas para ficar mais legível\n",
        "novos_nomes = {\n",
        "    \"Carimbo de data/hora\" : \"datetime\", \t\n",
        "    \"Gênero?\" : \"genero\", \t\n",
        "    'Qual a sua área  de atuação?' : \"atuacao\", \t\n",
        "    \"Há quantos anos trabalha com o desenvolvimento de Mobile APPs? \" : \"anos_experiencia\",\n",
        "    \"Tem conhecimento sobre desenvolvimento Mobile com funcionalidades voltadas para a acessibilidade em APPs?\": \"conhece_acessibilidade\",\n",
        "    \"Onde você aprendeu sobre acessibilidade?\" : \"aprendeu_em\", \t\n",
        "    \"O quanto você acha que implementa conceitos de acessibilidade nos seus projetos?\" : \"implementa\",\n",
        "    \"Dos OS listados, marque todos que você considera de fácil implementação de funcionalidades relacionadas a acessibilidade.\" : \"sistema_operacional\",\n",
        "    \"Qual a maior dificuldade ao implementar funcionalidades com features de acessibilidade?\": \"maior_dificuldade\",\n",
        "    \"Atualmente você trabalha com desenvolvimento Mobile em alguma empresa?\" : \"esta_trabalhando\",\n",
        "    \"Na empresa em que trabalha são aplicados funcionalidades visando a acessibilidade em APPs?\" : \"empresa_implementa\",\n",
        "    \"Qual o tamanho da empresa que você trabalha?\" : \"tamanho_empresa\"\n",
        "}\n",
        "\n",
        "df = df.rename(columns=novos_nomes)\n",
        "df.columns"
      ],
      "execution_count": 120,
      "outputs": [
        {
          "output_type": "execute_result",
          "data": {
            "text/plain": [
              "Index(['datetime', 'genero', 'atuacao', 'anos_experiencia',\n",
              "       'conhece_acessibilidade', 'aprendeu_em', 'implementa',\n",
              "       'sistema_operacional', 'maior_dificuldade', 'esta_trabalhando',\n",
              "       'empresa_implementa', 'tamanho_empresa'],\n",
              "      dtype='object')"
            ]
          },
          "metadata": {
            "tags": []
          },
          "execution_count": 120
        }
      ]
    },
    {
      "cell_type": "markdown",
      "metadata": {
        "id": "VauMgkKpqagm"
      },
      "source": [
        "## Classificação dos dados\n",
        "\n"
      ]
    },
    {
      "cell_type": "markdown",
      "metadata": {
        "id": "NN9c7z8pYiul"
      },
      "source": [
        "* datetime :  \t\n",
        "* genero \t\n",
        "* anos_experiencia\n",
        "* conhece_acessibilidade\n",
        "* aprendeu_em \t\n",
        "* implementa\n",
        "* sistema_operacional\n",
        "* maior_dificuldade\n",
        "* esta_trabalhando\n",
        "* empresa_implementa\n",
        "* tamanho_empres"
      ]
    },
    {
      "cell_type": "code",
      "metadata": {
        "colab": {
          "base_uri": "https://localhost:8080/"
        },
        "id": "ltmgPBiFsrWr",
        "outputId": "03261d38-d55a-42be-d459-3e64ad498593"
      },
      "source": [
        "df.shape"
      ],
      "execution_count": 121,
      "outputs": [
        {
          "output_type": "execute_result",
          "data": {
            "text/plain": [
              "(44, 12)"
            ]
          },
          "metadata": {
            "tags": []
          },
          "execution_count": 121
        }
      ]
    },
    {
      "cell_type": "markdown",
      "metadata": {
        "id": "PfNa1ngy0VMn"
      },
      "source": [
        "## O quanto o tema é conhecido e de qual forma se obteve conhecimento sobre"
      ]
    },
    {
      "cell_type": "markdown",
      "metadata": {
        "id": "zWze8jWA0fAy"
      },
      "source": [
        "Os campos que podem trazer essa informação são: genero, atuacao, anos_experiencia, conhece_acessibilidade, aprendeu_em"
      ]
    },
    {
      "cell_type": "code",
      "metadata": {
        "colab": {
          "base_uri": "https://localhost:8080/",
          "height": 265
        },
        "id": "Pj0fpKcc4yDi",
        "outputId": "06aea4e6-60dc-4ee8-86e2-d514b57450b3"
      },
      "source": [
        "df.genero.value_counts().plot(kind='pie')"
      ],
      "execution_count": 122,
      "outputs": [
        {
          "output_type": "execute_result",
          "data": {
            "text/plain": [
              "<matplotlib.axes._subplots.AxesSubplot at 0x7f5199b255c0>"
            ]
          },
          "metadata": {
            "tags": []
          },
          "execution_count": 122
        },
        {
          "output_type": "display_data",
          "data": {
            "image/png": "[encoded data removed]",
            "text/plain": [
              "<Figure size 432x288 with 1 Axes>"
            ]
          },
          "metadata": {
            "tags": []
          }
        }
      ]
    },
    {
      "cell_type": "code",
      "metadata": {
        "colab": {
          "base_uri": "https://localhost:8080/",
          "height": 281
        },
        "id": "zurq6LaG5wEo",
        "outputId": "b1dbc614-bebc-4468-e1da-3099661a3d29"
      },
      "source": [
        "my_labels = 'Masculino','Feminino'\n",
        "my_colors = ['lightblue','lightsteelblue']\n",
        "my_explode = (0, 0.1)\n",
        "plt.pie(df.genero.value_counts(), labels=my_labels, autopct='%1.1f%%', startangle=15, shadow = True, colors=my_colors, explode=my_explode)\n",
        "plt.title('Gênero')\n",
        "plt.axis('equal')\n",
        "plt.show()\n",
        "plt.savefig('proporcao_genero.png')"
      ],
      "execution_count": 123,
      "outputs": [
        {
          "output_type": "display_data",
          "data": {
            "image/png": "[encoded data removed]",
            "text/plain": [
              "<Figure size 432x288 with 1 Axes>"
            ]
          },
          "metadata": {
            "tags": []
          }
        },
        {
          "output_type": "display_data",
          "data": {
            "text/plain": [
              "<Figure size 432x288 with 0 Axes>"
            ]
          },
          "metadata": {
            "tags": []
          }
        }
      ]
    },
    {
      "cell_type": "code",
      "metadata": {
        "colab": {
          "base_uri": "https://localhost:8080/"
        },
        "id": "29mWuB9BYTy8",
        "outputId": "e91720bc-9d94-4c7d-8df9-773ce7c9630b"
      },
      "source": [
        "df.conhece_acessibilidade.value_counts()"
      ],
      "execution_count": 124,
      "outputs": [
        {
          "output_type": "execute_result",
          "data": {
            "text/plain": [
              "Sim, já ouvi falar.               22\n",
              "Sim, eu conheço ou já utilizo.    17\n",
              "Não, nunca ouvi falar.             5\n",
              "Name: conhece_acessibilidade, dtype: int64"
            ]
          },
          "metadata": {
            "tags": []
          },
          "execution_count": 124
        }
      ]
    },
    {
      "cell_type": "code",
      "metadata": {
        "colab": {
          "base_uri": "https://localhost:8080/",
          "height": 338
        },
        "id": "27gUZEktN2NM",
        "outputId": "b0c7154e-6a58-4edb-c8cc-729b01b9a468"
      },
      "source": [
        "df.conhece_acessibilidade.value_counts().plot(kind='bar')\n",
        "plt.xticks(rotation=30, horizontalalignment=\"center\")\n",
        "plt.savefig('conhece_sobre_acessibilidade.png')"
      ],
      "execution_count": 125,
      "outputs": [
        {
          "output_type": "display_data",
          "data": {
            "image/png": "[encoded data removed]",
            "text/plain": [
              "<Figure size 432x288 with 1 Axes>"
            ]
          },
          "metadata": {
            "tags": [],
            "needs_background": "light"
          }
        }
      ]
    },
    {
      "cell_type": "markdown",
      "metadata": {
        "id": "Y4ibgKMyQXeF"
      },
      "source": [
        "Podemos ver que a maioria das pessoas que responderam esse formulário conhece sobre acessibilidade em aplicativos para dispositivos móveis. Dentre as duas classes que conhecem sobre, nós temos o grupo que só ouviu falar como o maior grupo, sendo seguido pelo grupo das pessoas que conhecem e já utilizam.\n",
        "\n",
        "Dentre essas pessoas, nós gostaríamos de saber de que forma elas conheceram sobre o assunto."
      ]
    },
    {
      "cell_type": "code",
      "metadata": {
        "colab": {
          "base_uri": "https://localhost:8080/",
          "height": 337
        },
        "id": "td3jg-daQRxQ",
        "outputId": "657dd8fa-24ed-4ff9-cb6e-ed38f96b7358"
      },
      "source": [
        "df.aprendeu_em.value_counts().plot(kind='bar')\n",
        "plt.xticks(rotation=30, horizontalalignment=\"center\")"
      ],
      "execution_count": 126,
      "outputs": [
        {
          "output_type": "execute_result",
          "data": {
            "text/plain": [
              "(array([0, 1, 2, 3]), <a list of 4 Text major ticklabel objects>)"
            ]
          },
          "metadata": {
            "tags": []
          },
          "execution_count": 126
        },
        {
          "output_type": "display_data",
          "data": {
            "image/png": "[encoded data removed]",
            "text/plain": [
              "<Figure size 432x288 with 1 Axes>"
            ]
          },
          "metadata": {
            "tags": [],
            "needs_background": "light"
          }
        }
      ]
    },
    {
      "cell_type": "markdown",
      "metadata": {
        "id": "DINvLgDQXyvz"
      },
      "source": [
        "Com isso podemos perceber que a grande maioria das pessoas que responderam ao nosso formulário aprendeu sobre acessibilidade em Cursos online e em segundo lugar diretamente na prática no trabalho."
      ]
    },
    {
      "cell_type": "markdown",
      "metadata": {
        "id": "ORT3yL3JYM2Z"
      },
      "source": [
        "## Descobrir qual o numero de pessoas que aplicam acessibilidade e quantas gostariam de aplicar"
      ]
    },
    {
      "cell_type": "markdown",
      "metadata": {
        "id": "imayMtZTYWeg"
      },
      "source": [
        "Das 17 pessoas que já utilizam, como elas classificam a sua implementação."
      ]
    },
    {
      "cell_type": "code",
      "metadata": {
        "id": "XuXm0d7WYAOZ"
      },
      "source": [
        "df.implementa"
      ],
      "execution_count": null,
      "outputs": []
    },
    {
      "cell_type": "code",
      "metadata": {
        "id": "Pj1lTXd9eGJ4"
      },
      "source": [
        "df.plot.scatter(x='length', y='width', c='DarkBlue')"
      ],
      "execution_count": null,
      "outputs": []
    },
    {
      "cell_type": "markdown",
      "metadata": {
        "id": "UxbOdutFWqTs"
      },
      "source": [
        "Percebemos que algumas pessoas não responderam e por isso temos valores nulos que não serão contabilizados no nosso cálculo."
      ]
    },
    {
      "cell_type": "markdown",
      "metadata": {
        "id": "CTA7AKPiY2ZV"
      },
      "source": [
        "Vamos fazer uma tabela de distribuição de frequência para identificar a implementação;"
      ]
    },
    {
      "cell_type": "code",
      "metadata": {
        "id": "NwOGVbbXTst7"
      },
      "source": [
        "tabela_frequencia = pd.DataFrame(df.implementa.value_counts())\n",
        "tabela_frequencia = tabela_frequencia.rename(columns={'implementa' : 'fi'})\n",
        "tabela_frequencia = tabela_frequencia.sort_index()"
      ],
      "execution_count": 215,
      "outputs": []
    },
    {
      "cell_type": "code",
      "metadata": {
        "colab": {
          "base_uri": "https://localhost:8080/",
          "height": 238
        },
        "id": "JR3wbiBtWXX_",
        "outputId": "c3b8025b-6422-4af6-9e81-bbaa4d4e3d86"
      },
      "source": [
        "# frequencia acumulada\n",
        "fac = []\n",
        "total = 0\n",
        "for freq in tabela_frequencia.fi:\n",
        "  total += freq\n",
        "  fac.append(total)\n",
        "\n",
        "total_acumulado = total\n",
        "tabela_frequencia['fac'] = fac\n",
        "tabela_frequencia"
      ],
      "execution_count": 225,
      "outputs": [
        {
          "output_type": "execute_result",
          "data": {
            "text/html": [
              "<div>\n",
              "<style scoped>\n",
              "    .dataframe tbody tr th:only-of-type {\n",
              "        vertical-align: middle;\n",
              "    }\n",
              "\n",
              "    .dataframe tbody tr th {\n",
              "        vertical-align: top;\n",
              "    }\n",
              "\n",
              "    .dataframe thead th {\n",
              "        text-align: right;\n",
              "    }\n",
              "</style>\n",
              "<table border=\"1\" class=\"dataframe\">\n",
              "  <thead>\n",
              "    <tr style=\"text-align: right;\">\n",
              "      <th></th>\n",
              "      <th>fi</th>\n",
              "      <th>fac</th>\n",
              "      <th>xi_x</th>\n",
              "      <th>xi_x_fi</th>\n",
              "    </tr>\n",
              "  </thead>\n",
              "  <tbody>\n",
              "    <tr>\n",
              "      <th>0.0</th>\n",
              "      <td>9</td>\n",
              "      <td>9</td>\n",
              "      <td>4.0</td>\n",
              "      <td>36.0</td>\n",
              "    </tr>\n",
              "    <tr>\n",
              "      <th>1.0</th>\n",
              "      <td>6</td>\n",
              "      <td>15</td>\n",
              "      <td>1.0</td>\n",
              "      <td>6.0</td>\n",
              "    </tr>\n",
              "    <tr>\n",
              "      <th>2.0</th>\n",
              "      <td>8</td>\n",
              "      <td>23</td>\n",
              "      <td>0.0</td>\n",
              "      <td>0.0</td>\n",
              "    </tr>\n",
              "    <tr>\n",
              "      <th>3.0</th>\n",
              "      <td>9</td>\n",
              "      <td>32</td>\n",
              "      <td>1.0</td>\n",
              "      <td>9.0</td>\n",
              "    </tr>\n",
              "    <tr>\n",
              "      <th>4.0</th>\n",
              "      <td>6</td>\n",
              "      <td>38</td>\n",
              "      <td>4.0</td>\n",
              "      <td>24.0</td>\n",
              "    </tr>\n",
              "    <tr>\n",
              "      <th>5.0</th>\n",
              "      <td>1</td>\n",
              "      <td>39</td>\n",
              "      <td>9.0</td>\n",
              "      <td>9.0</td>\n",
              "    </tr>\n",
              "  </tbody>\n",
              "</table>\n",
              "</div>"
            ],
            "text/plain": [
              "     fi  fac  xi_x  xi_x_fi\n",
              "0.0   9    9   4.0     36.0\n",
              "1.0   6   15   1.0      6.0\n",
              "2.0   8   23   0.0      0.0\n",
              "3.0   9   32   1.0      9.0\n",
              "4.0   6   38   4.0     24.0\n",
              "5.0   1   39   9.0      9.0"
            ]
          },
          "metadata": {
            "tags": []
          },
          "execution_count": 225
        }
      ]
    },
    {
      "cell_type": "code",
      "metadata": {
        "colab": {
          "base_uri": "https://localhost:8080/"
        },
        "id": "XBR7QgrtW6fh",
        "outputId": "66dbc4ce-7910-401b-9ce6-39f5440ed224"
      },
      "source": [
        "# Calcular a média\n",
        "rows, _ = tabela_frequencia.shape\n",
        "somatorio = 0\n",
        "for index in range (0, rows):\n",
        "  somatorio += index * tabela_frequencia.iloc[index, 0]\n",
        "\n",
        "media = somatorio / total_acumulado\n",
        "media"
      ],
      "execution_count": 227,
      "outputs": [
        {
          "output_type": "execute_result",
          "data": {
            "text/plain": [
              "2.0"
            ]
          },
          "metadata": {
            "tags": []
          },
          "execution_count": 227
        }
      ]
    },
    {
      "cell_type": "code",
      "metadata": {
        "colab": {
          "base_uri": "https://localhost:8080/",
          "height": 238
        },
        "id": "Rk-DfEzmY28q",
        "outputId": "a03ca605-4c7b-4819-c0ce-08c56c44ca31"
      },
      "source": [
        "# calcular (xi - media)²\n",
        "xi_x = []\n",
        "\n",
        "for index in range (0, rows):\n",
        "  valor = pow((index - media), 2)\n",
        "  xi_x.append(valor)\n",
        "\n",
        "tabela_frequencia['xi_x'] = xi_x\n",
        "tabela_frequencia"
      ],
      "execution_count": 228,
      "outputs": [
        {
          "output_type": "execute_result",
          "data": {
            "text/html": [
              "<div>\n",
              "<style scoped>\n",
              "    .dataframe tbody tr th:only-of-type {\n",
              "        vertical-align: middle;\n",
              "    }\n",
              "\n",
              "    .dataframe tbody tr th {\n",
              "        vertical-align: top;\n",
              "    }\n",
              "\n",
              "    .dataframe thead th {\n",
              "        text-align: right;\n",
              "    }\n",
              "</style>\n",
              "<table border=\"1\" class=\"dataframe\">\n",
              "  <thead>\n",
              "    <tr style=\"text-align: right;\">\n",
              "      <th></th>\n",
              "      <th>fi</th>\n",
              "      <th>fac</th>\n",
              "      <th>xi_x</th>\n",
              "      <th>xi_x_fi</th>\n",
              "    </tr>\n",
              "  </thead>\n",
              "  <tbody>\n",
              "    <tr>\n",
              "      <th>0.0</th>\n",
              "      <td>9</td>\n",
              "      <td>9</td>\n",
              "      <td>4.0</td>\n",
              "      <td>36.0</td>\n",
              "    </tr>\n",
              "    <tr>\n",
              "      <th>1.0</th>\n",
              "      <td>6</td>\n",
              "      <td>15</td>\n",
              "      <td>1.0</td>\n",
              "      <td>6.0</td>\n",
              "    </tr>\n",
              "    <tr>\n",
              "      <th>2.0</th>\n",
              "      <td>8</td>\n",
              "      <td>23</td>\n",
              "      <td>0.0</td>\n",
              "      <td>0.0</td>\n",
              "    </tr>\n",
              "    <tr>\n",
              "      <th>3.0</th>\n",
              "      <td>9</td>\n",
              "      <td>32</td>\n",
              "      <td>1.0</td>\n",
              "      <td>9.0</td>\n",
              "    </tr>\n",
              "    <tr>\n",
              "      <th>4.0</th>\n",
              "      <td>6</td>\n",
              "      <td>38</td>\n",
              "      <td>4.0</td>\n",
              "      <td>24.0</td>\n",
              "    </tr>\n",
              "    <tr>\n",
              "      <th>5.0</th>\n",
              "      <td>1</td>\n",
              "      <td>39</td>\n",
              "      <td>9.0</td>\n",
              "      <td>9.0</td>\n",
              "    </tr>\n",
              "  </tbody>\n",
              "</table>\n",
              "</div>"
            ],
            "text/plain": [
              "     fi  fac  xi_x  xi_x_fi\n",
              "0.0   9    9   4.0     36.0\n",
              "1.0   6   15   1.0      6.0\n",
              "2.0   8   23   0.0      0.0\n",
              "3.0   9   32   1.0      9.0\n",
              "4.0   6   38   4.0     24.0\n",
              "5.0   1   39   9.0      9.0"
            ]
          },
          "metadata": {
            "tags": []
          },
          "execution_count": 228
        }
      ]
    },
    {
      "cell_type": "code",
      "metadata": {
        "colab": {
          "base_uri": "https://localhost:8080/",
          "height": 238
        },
        "id": "w-bJanSNbDSA",
        "outputId": "8e84bf86-fdab-4f9f-9f2b-baf53ee44ffd"
      },
      "source": [
        "# calcular (xi - x)² * fi\n",
        "\n",
        "xi_x_fi = []\n",
        "xi_x_fi__soma = 0\n",
        "for index in range (0, rows):\n",
        "  valor = tabela_frequencia.iloc[index, 0] * tabela_frequencia.iloc[index, 2]\n",
        "  xi_x_fi.append(valor)\n",
        "  xi_x_fi__soma += valor\n",
        "\n",
        "tabela_frequencia['xi_x_fi'] = xi_x_fi\n",
        "tabela_frequencia"
      ],
      "execution_count": 229,
      "outputs": [
        {
          "output_type": "execute_result",
          "data": {
            "text/html": [
              "<div>\n",
              "<style scoped>\n",
              "    .dataframe tbody tr th:only-of-type {\n",
              "        vertical-align: middle;\n",
              "    }\n",
              "\n",
              "    .dataframe tbody tr th {\n",
              "        vertical-align: top;\n",
              "    }\n",
              "\n",
              "    .dataframe thead th {\n",
              "        text-align: right;\n",
              "    }\n",
              "</style>\n",
              "<table border=\"1\" class=\"dataframe\">\n",
              "  <thead>\n",
              "    <tr style=\"text-align: right;\">\n",
              "      <th></th>\n",
              "      <th>fi</th>\n",
              "      <th>fac</th>\n",
              "      <th>xi_x</th>\n",
              "      <th>xi_x_fi</th>\n",
              "    </tr>\n",
              "  </thead>\n",
              "  <tbody>\n",
              "    <tr>\n",
              "      <th>0.0</th>\n",
              "      <td>9</td>\n",
              "      <td>9</td>\n",
              "      <td>4.0</td>\n",
              "      <td>36.0</td>\n",
              "    </tr>\n",
              "    <tr>\n",
              "      <th>1.0</th>\n",
              "      <td>6</td>\n",
              "      <td>15</td>\n",
              "      <td>1.0</td>\n",
              "      <td>6.0</td>\n",
              "    </tr>\n",
              "    <tr>\n",
              "      <th>2.0</th>\n",
              "      <td>8</td>\n",
              "      <td>23</td>\n",
              "      <td>0.0</td>\n",
              "      <td>0.0</td>\n",
              "    </tr>\n",
              "    <tr>\n",
              "      <th>3.0</th>\n",
              "      <td>9</td>\n",
              "      <td>32</td>\n",
              "      <td>1.0</td>\n",
              "      <td>9.0</td>\n",
              "    </tr>\n",
              "    <tr>\n",
              "      <th>4.0</th>\n",
              "      <td>6</td>\n",
              "      <td>38</td>\n",
              "      <td>4.0</td>\n",
              "      <td>24.0</td>\n",
              "    </tr>\n",
              "    <tr>\n",
              "      <th>5.0</th>\n",
              "      <td>1</td>\n",
              "      <td>39</td>\n",
              "      <td>9.0</td>\n",
              "      <td>9.0</td>\n",
              "    </tr>\n",
              "  </tbody>\n",
              "</table>\n",
              "</div>"
            ],
            "text/plain": [
              "     fi  fac  xi_x  xi_x_fi\n",
              "0.0   9    9   4.0     36.0\n",
              "1.0   6   15   1.0      6.0\n",
              "2.0   8   23   0.0      0.0\n",
              "3.0   9   32   1.0      9.0\n",
              "4.0   6   38   4.0     24.0\n",
              "5.0   1   39   9.0      9.0"
            ]
          },
          "metadata": {
            "tags": []
          },
          "execution_count": 229
        }
      ]
    },
    {
      "cell_type": "code",
      "metadata": {
        "colab": {
          "base_uri": "https://localhost:8080/"
        },
        "id": "h6kq-Sl5cm0L",
        "outputId": "3c0010f1-6e6c-4c06-a693-e6273278e1d3"
      },
      "source": [
        "xi_x_fi__soma"
      ],
      "execution_count": 230,
      "outputs": [
        {
          "output_type": "execute_result",
          "data": {
            "text/plain": [
              "84.0"
            ]
          },
          "metadata": {
            "tags": []
          },
          "execution_count": 230
        }
      ]
    },
    {
      "cell_type": "code",
      "metadata": {
        "colab": {
          "base_uri": "https://localhost:8080/"
        },
        "id": "prs_AEUHcq0h",
        "outputId": "991de731-6945-4eef-c92b-c7101186afc0"
      },
      "source": [
        "variancia = round(xi_x_fi__soma / (total_acumulado - 1), 2)\n",
        "variancia"
      ],
      "execution_count": 237,
      "outputs": [
        {
          "output_type": "execute_result",
          "data": {
            "text/plain": [
              "2.21"
            ]
          },
          "metadata": {
            "tags": []
          },
          "execution_count": 237
        }
      ]
    },
    {
      "cell_type": "code",
      "metadata": {
        "colab": {
          "base_uri": "https://localhost:8080/"
        },
        "id": "QVcQyG8BdVTp",
        "outputId": "01948cb8-c55a-4992-a7f5-a3f28ddbf266"
      },
      "source": [
        "desvio_padrao = round(math.sqrt(variancia), 2)\n",
        "desvio_padrao"
      ],
      "execution_count": 240,
      "outputs": [
        {
          "output_type": "execute_result",
          "data": {
            "text/plain": [
              "1.49"
            ]
          },
          "metadata": {
            "tags": []
          },
          "execution_count": 240
        }
      ]
    },
    {
      "cell_type": "code",
      "metadata": {
        "colab": {
          "base_uri": "https://localhost:8080/"
        },
        "id": "bkOi89aNdl_5",
        "outputId": "556bbf3e-8ee8-43b7-871a-4cd16eea99fa"
      },
      "source": [
        "coeficiente_variacao = (desvio_padrao / media) * 100\n",
        "coeficiente_variacao"
      ],
      "execution_count": 242,
      "outputs": [
        {
          "output_type": "execute_result",
          "data": {
            "text/plain": [
              "74.5"
            ]
          },
          "metadata": {
            "tags": []
          },
          "execution_count": 242
        }
      ]
    },
    {
      "cell_type": "code",
      "metadata": {
        "colab": {
          "base_uri": "https://localhost:8080/",
          "height": 282
        },
        "id": "TvDwOzq-fykE",
        "outputId": "fbd24264-88de-4e20-d24b-cb52fc6c4225"
      },
      "source": [
        "tabela_frequencia.fi.plot.line(x=tabela_frequencia.index, y=tabela_frequencia.fi)"
      ],
      "execution_count": 250,
      "outputs": [
        {
          "output_type": "execute_result",
          "data": {
            "text/plain": [
              "<matplotlib.axes._subplots.AxesSubplot at 0x7f51994c4358>"
            ]
          },
          "metadata": {
            "tags": []
          },
          "execution_count": 250
        },
        {
          "output_type": "display_data",
          "data": {
            "image/png": "[encoded data removed]",
            "text/plain": [
              "<Figure size 432x288 with 1 Axes>"
            ]
          },
          "metadata": {
            "tags": [],
            "needs_background": "light"
          }
        }
      ]
    },
    {
      "cell_type": "markdown",
      "metadata": {
        "id": "26B8Vaf2Y9kv"
      },
      "source": [
        "## Quantas implementam no trabalho e qual a relação disso com o tamanho da empresa"
      ]
    },
    {
      "cell_type": "code",
      "metadata": {
        "colab": {
          "base_uri": "https://localhost:8080/",
          "height": 265
        },
        "id": "KfcMB2mjZCkU",
        "outputId": "048ed5c8-1bbc-422b-bb1b-0336d56a14d2"
      },
      "source": [
        "df.esta_trabalhando.value_counts().plot(kind='pie')\n",
        "plt.xticks(rotation=60, horizontalalignment=\"center\")\n"
      ],
      "execution_count": 157,
      "outputs": [
        {
          "output_type": "execute_result",
          "data": {
            "text/plain": [
              "(array([], dtype=float64), <a list of 0 Text major ticklabel objects>)"
            ]
          },
          "metadata": {
            "tags": []
          },
          "execution_count": 157
        },
        {
          "output_type": "display_data",
          "data": {
            "image/png": "[encoded data removed]",
            "text/plain": [
              "<Figure size 432x288 with 1 Axes>"
            ]
          },
          "metadata": {
            "tags": []
          }
        }
      ]
    },
    {
      "cell_type": "code",
      "metadata": {
        "colab": {
          "base_uri": "https://localhost:8080/"
        },
        "id": "dCbeoO8KZpIy",
        "outputId": "77d0c4b9-7ef4-4414-ebf1-6e11325e0d87"
      },
      "source": [
        "df.empresa_implementa.value_counts()"
      ],
      "execution_count": 129,
      "outputs": [
        {
          "output_type": "execute_result",
          "data": {
            "text/plain": [
              "Não    17\n",
              "Sim     8\n",
              "Name: empresa_implementa, dtype: int64"
            ]
          },
          "metadata": {
            "tags": []
          },
          "execution_count": 129
        }
      ]
    },
    {
      "cell_type": "code",
      "metadata": {
        "id": "jswE7Q0IaJfv"
      },
      "source": [
        "empresa_implementa = df.loc[df.empresa_implementa== 'Sim']"
      ],
      "execution_count": 130,
      "outputs": []
    },
    {
      "cell_type": "code",
      "metadata": {
        "colab": {
          "base_uri": "https://localhost:8080/"
        },
        "id": "tSwOR0Kaagae",
        "outputId": "ba83ee41-e1f5-43bc-a09c-a18a83b48686"
      },
      "source": [
        "empresa_implementa.tamanho_empresa.value_counts()"
      ],
      "execution_count": 131,
      "outputs": [
        {
          "output_type": "execute_result",
          "data": {
            "text/plain": [
              "Grande     3\n",
              "Média      3\n",
              "Pequena    2\n",
              "Name: tamanho_empresa, dtype: int64"
            ]
          },
          "metadata": {
            "tags": []
          },
          "execution_count": 131
        }
      ]
    },
    {
      "cell_type": "markdown",
      "metadata": {
        "id": "c5KSsIuUbSAR"
      },
      "source": [
        "## Qual a relação entre SO e uso de acessibilidade"
      ]
    },
    {
      "cell_type": "code",
      "metadata": {
        "id": "n2J-gsW2_66_"
      },
      "source": [
        "df.sistema_operacional"
      ],
      "execution_count": null,
      "outputs": []
    },
    {
      "cell_type": "code",
      "metadata": {
        "id": "oU0USiFybT-Y",
        "colab": {
          "base_uri": "https://localhost:8080/",
          "height": 340
        },
        "outputId": "f55908cc-b74c-42ee-d3d9-71daa079792e"
      },
      "source": [
        "df.sistema_operacional.value_counts().plot(kind='bar')\n",
        "plt.xticks(rotation=60, horizontalalignment=\"center\")"
      ],
      "execution_count": 137,
      "outputs": [
        {
          "output_type": "execute_result",
          "data": {
            "text/plain": [
              "(array([0, 1, 2]), <a list of 3 Text major ticklabel objects>)"
            ]
          },
          "metadata": {
            "tags": []
          },
          "execution_count": 137
        },
        {
          "output_type": "display_data",
          "data": {
            "image/png": "[encoded data removed]",
            "text/plain": [
              "<Figure size 432x288 with 1 Axes>"
            ]
          },
          "metadata": {
            "tags": [],
            "needs_background": "light"
          }
        }
      ]
    },
    {
      "cell_type": "code",
      "metadata": {
        "id": "r00UiqhnB5LI"
      },
      "source": [
        "sistemas_operacionais = pd.Series(df.sistema_operacional.values).dropna().to_frame(name='os')\n",
        "tps_so = df.sistema_operacional.str.split(\",\", n = 1, expand = True)"
      ],
      "execution_count": 135,
      "outputs": []
    },
    {
      "cell_type": "code",
      "metadata": {
        "colab": {
          "base_uri": "https://localhost:8080/"
        },
        "id": "g70fgajxD9FA",
        "outputId": "3c4b1a83-026d-489d-c8ce-debd5638a6f9"
      },
      "source": [
        "sistemas_operacionais_dict = dict(tps_so[0].value_counts())\n",
        "sistemas_operacionais_dict.update(tps_so[1].value_counts())\n",
        "\n",
        "sistemas_operacionais_dict"
      ],
      "execution_count": 151,
      "outputs": [
        {
          "output_type": "execute_result",
          "data": {
            "text/plain": [
              "{' IOS': 15, 'Android': 21, 'Não sei opinar': 18}"
            ]
          },
          "metadata": {
            "tags": []
          },
          "execution_count": 151
        }
      ]
    },
    {
      "cell_type": "code",
      "metadata": {
        "colab": {
          "base_uri": "https://localhost:8080/",
          "height": 297
        },
        "id": "dbvz-tCMLBlt",
        "outputId": "4e5ba5cd-0be8-45d2-a55f-dca378f4eb9d"
      },
      "source": [
        "sistemas_operacionais = pd.DataFrame(sistemas_operacionais_dict, index=['total'])\n",
        "sistemas_operacionais.plot(kind='bar')\n",
        "plt.xticks(rotation=60, horizontalalignment=\"center\")\n"
      ],
      "execution_count": 156,
      "outputs": [
        {
          "output_type": "execute_result",
          "data": {
            "text/plain": [
              "(array([0]), <a list of 1 Text major ticklabel objects>)"
            ]
          },
          "metadata": {
            "tags": []
          },
          "execution_count": 156
        },
        {
          "output_type": "display_data",
          "data": {
            "image/png": "[encoded data removed]",
            "text/plain": [
              "<Figure size 432x288 with 1 Axes>"
            ]
          },
          "metadata": {
            "tags": [],
            "needs_background": "light"
          }
        }
      ]
    },
    {
      "cell_type": "code",
      "metadata": {
        "id": "ww4fp2NwKwJx"
      },
      "source": [
        ""
      ],
      "execution_count": null,
      "outputs": []
    }
  ]
}